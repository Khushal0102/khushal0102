{
 "cells": [
  {
   "cell_type": "code",
   "execution_count": 60,
   "id": "5dbdc3ed",
   "metadata": {},
   "outputs": [],
   "source": [
    "#C226_Khushal_Dhole"
   ]
  },
  {
   "cell_type": "code",
   "execution_count": 2,
   "id": "8904212f",
   "metadata": {},
   "outputs": [],
   "source": [
    "import numpy as np\n",
    "import pandas as pd\n",
    "import statistics\n",
    "import scipy.stats as stats"
   ]
  },
  {
   "cell_type": "code",
   "execution_count": 3,
   "id": "5923da19",
   "metadata": {},
   "outputs": [],
   "source": [
    "# LAB_1"
   ]
  },
  {
   "cell_type": "code",
   "execution_count": 4,
   "id": "8cd626f3",
   "metadata": {},
   "outputs": [
    {
     "name": "stdout",
     "output_type": "stream",
     "text": [
      "[ 4  6  7  8 10 12 12 13]\n",
      "MEAN :  9.0\n",
      "MEDIAN :  9.0\n",
      "MODE :  12\n",
      "STANDARD DEVIATION :  3.2513733362117265\n",
      "VARIANCE :  9.25\n",
      "[3.0, 2.0, 1.0, 3.0, 4.0, 5.0, 1.0, 3.0]\n",
      "MEAN DEVIATION :  2.75\n"
     ]
    }
   ],
   "source": [
    "#Q-1\n",
    "\n",
    "scores = [6,7,10,12,13,4,8,12]\n",
    "print(np.sort(scores))\n",
    "print(\"MEAN : \", np.mean(scores))\n",
    "print(\"MEDIAN : \",statistics.median(scores))\n",
    "print(\"MODE : \",statistics.mode(scores))\n",
    "print(\"STANDARD DEVIATION : \",statistics.stdev(scores))\n",
    "print(\"VARIANCE : \",np.var(scores))\n",
    "\n",
    "deviation = []\n",
    "for i in scores:\n",
    "    a = i - np.mean(scores)\n",
    "    deviation.append(abs(a))\n",
    "print(deviation)\n",
    "print(\"MEAN DEVIATION : \",np.mean(deviation))"
   ]
  },
  {
   "cell_type": "code",
   "execution_count": 5,
   "id": "ed0731ec",
   "metadata": {},
   "outputs": [
    {
     "name": "stdout",
     "output_type": "stream",
     "text": [
      "[3, 6, 9, 12, 15, 18, 21, 24, 27, 30]\n",
      "MEAN :  16.5\n",
      "VARIANCE :  74.25\n"
     ]
    }
   ],
   "source": [
    "#Q-2\n",
    "\n",
    "data = []\n",
    "for i in range(1,11):\n",
    "    data.append(3*i)\n",
    "print(data)\n",
    "print(\"MEAN : \", np.mean(data))\n",
    "print(\"VARIANCE : \",np.var(data))"
   ]
  },
  {
   "cell_type": "code",
   "execution_count": 6,
   "id": "e0cbb690",
   "metadata": {},
   "outputs": [
    {
     "name": "stdout",
     "output_type": "stream",
     "text": [
      "[6.0, 3.0, 2.0, 1.0, 0.0, 2.0, 3.0, 7.0]\n",
      "MEAN DEVIATION :  3.0\n"
     ]
    }
   ],
   "source": [
    "#Q-3\n",
    "\n",
    "data_1 = [4,7,8,9,10,12,13,17]\n",
    "deviation_1 = []\n",
    "for i in data_1:\n",
    "    a = i - np.mean(data_1)\n",
    "    deviation_1.append(abs(a))\n",
    "print(deviation_1)\n",
    "print(\"MEAN DEVIATION : \",np.mean(deviation_1))"
   ]
  },
  {
   "cell_type": "code",
   "execution_count": 7,
   "id": "d40ae353",
   "metadata": {},
   "outputs": [
    {
     "name": "stdout",
     "output_type": "stream",
     "text": [
      "[12.0, 20.0, 2.0, 10.0, 8.0, 5.0, 13.0, 4.0, 4.0, 6.0]\n",
      "MEAN DEVIATION :  8.4\n"
     ]
    }
   ],
   "source": [
    "#Q-4\n",
    "\n",
    "data_2 = [38,70,48,40,42,55,63,46,54,44]\n",
    "deviation_2 = []\n",
    "for i in data_2:\n",
    "    a = i - np.mean(data_2)\n",
    "    deviation_2.append(abs(a))\n",
    "print(deviation_2)\n",
    "print(\"MEAN DEVIATION : \",np.mean(deviation_2))"
   ]
  },
  {
   "cell_type": "code",
   "execution_count": 8,
   "id": "8766c546",
   "metadata": {},
   "outputs": [
    {
     "name": "stdout",
     "output_type": "stream",
     "text": [
      "Enter the number of natural numbers : 5\n",
      "[1, 2, 3, 4, 5]\n",
      "MEAN :  3.0\n",
      "VARIANCE :  2.0\n"
     ]
    }
   ],
   "source": [
    "#Q-5\n",
    "\n",
    "n = int(input(\"Enter the number of natural numbers : \"))\n",
    "data_3=[]\n",
    "for i in range(1,n+1):\n",
    "        data_3.append(i)\n",
    "print(data_3)\n",
    "print(\"MEAN : \", np.mean(data_3))\n",
    "print(\"VARIANCE : \",np.var(data_3))"
   ]
  },
  {
   "cell_type": "code",
   "execution_count": 16,
   "id": "2831f28a",
   "metadata": {},
   "outputs": [],
   "source": [
    "# LAB_2"
   ]
  },
  {
   "cell_type": "code",
   "execution_count": 17,
   "id": "97ab5e54",
   "metadata": {},
   "outputs": [
    {
     "name": "stdout",
     "output_type": "stream",
     "text": [
      "SUM Fi =  48\n",
      "SUM Xi*Fi =  576\n",
      "MEAN :  12.0\n"
     ]
    }
   ],
   "source": [
    "#Q-1\n",
    "\n",
    "Xi = np.array([10,11,12,13,14])\n",
    "Fi = np.array([3,12,18,12,3])\n",
    "print(\"SUM Fi = \",sum(Fi))\n",
    "print(\"SUM Xi*Fi = \",sum(Xi*Fi))\n",
    "print(\"MEAN : \",sum(Xi*Fi)/sum(Fi))"
   ]
  },
  {
   "cell_type": "code",
   "execution_count": 18,
   "id": "0b04fc05",
   "metadata": {},
   "outputs": [
    {
     "name": "stdout",
     "output_type": "stream",
     "text": [
      "   Xi  Fi\n",
      "0   3   3\n",
      "1   6   4\n",
      "2   9   5\n",
      "3  12   2\n",
      "4  13   4\n",
      "5  15   5\n",
      "6  21   4\n",
      "7  22   3\n"
     ]
    },
    {
     "data": {
      "text/plain": [
       "Xi    12.5\n",
       "Fi     4.0\n",
       "dtype: float64"
      ]
     },
     "execution_count": 18,
     "metadata": {},
     "output_type": "execute_result"
    }
   ],
   "source": [
    "#Q-2\n",
    "\n",
    "df = pd.DataFrame({'Xi':[3,6,9,12,13,15,21,22],'Fi':[3,4,5,2,4,5,4,3]})\n",
    "print(df)\n",
    "df.median()"
   ]
  },
  {
   "cell_type": "code",
   "execution_count": 19,
   "id": "735cc1dd",
   "metadata": {},
   "outputs": [
    {
     "name": "stdout",
     "output_type": "stream",
     "text": [
      "Mean: 25.0\n",
      "Variance: 160.0\n"
     ]
    }
   ],
   "source": [
    "#Q-3\n",
    "\n",
    "class_intervals = np.array([0, 10, 20, 30, 40, 50])\n",
    "frequencies = np.array([14, 23, 27, 21, 15])\n",
    "mean = np.sum((class_intervals[:-1] + class_intervals[1:]) / 2 * frequencies) / np.sum(frequencies)\n",
    "variance = np.sum(((class_intervals[:-1] + class_intervals[1:]) / 2 - mean)**2 * frequencies) / np.sum(frequencies)\n",
    " \n",
    "print(\"Mean:\", mean)\n",
    "print(\"Variance:\", variance)"
   ]
  },
  {
   "cell_type": "code",
   "execution_count": 20,
   "id": "8d9fd346",
   "metadata": {},
   "outputs": [],
   "source": [
    "# LAB_3"
   ]
  },
  {
   "cell_type": "code",
   "execution_count": 21,
   "id": "c30a095f",
   "metadata": {},
   "outputs": [
    {
     "name": "stdout",
     "output_type": "stream",
     "text": [
      "Sample size of STRATA-1 =  560.0\n",
      "Sample size of STRATA-2 =  840.0\n",
      "Sample size of STRATA-3 =  1400.0\n",
      "Sample size of STRATA-4 =  1260.0\n",
      "Sample size of STRATA-5 =  1400.0\n",
      "Sample size of STRATA-6 =  1540.0\n",
      "Sample size =  7000.0\n"
     ]
    }
   ],
   "source": [
    "#Q-1\n",
    "\n",
    "sample_size = 7000\n",
    "print(\"Sample size of STRATA-1 = \",sample_size*(8/100))\n",
    "print(\"Sample size of STRATA-2 = \",sample_size*(12/100))\n",
    "print(\"Sample size of STRATA-3 = \",sample_size*(20/100))\n",
    "print(\"Sample size of STRATA-4 = \",sample_size*(18/100))\n",
    "print(\"Sample size of STRATA-5 = \",sample_size*(20/100))\n",
    "print(\"Sample size of STRATA-6 = \",sample_size*(22/100))\n",
    "print(\"Sample size = \",sample_size*(8/100)+sample_size*(12/100)+sample_size*(20/100)+sample_size*(18/100)+sample_size*(20/100)+sample_size*(22/100))"
   ]
  },
  {
   "cell_type": "code",
   "execution_count": 34,
   "id": "3e9451d9",
   "metadata": {},
   "outputs": [
    {
     "name": "stdout",
     "output_type": "stream",
     "text": [
      "                 Carpenters  Plumbers  Electrician\n",
      "Income(Rs.)                                       \n",
      "<50000                 1100      1250         1900\n",
      "50000 - 100000         2050      2320         2200\n",
      "100000 - 150000        1200      1470         1700\n",
      "150000<                 970       890         1150\n",
      "\n",
      "\n",
      "Part-i\n",
      "\n",
      "\n",
      "        Income(Rs.)  Carpenters  Plumbers  Electrician\n",
      "0           <50000        88.0     100.0        152.0\n",
      "1   50000 - 100000       164.0     185.6        176.0\n",
      "2  100000 - 150000        96.0     117.6        136.0\n",
      "3          150000<        77.6      71.2         92.0\n",
      "\n",
      "\n",
      "Part-ii\n",
      "\n"
     ]
    },
    {
     "data": {
      "text/html": [
       "<div>\n",
       "<style scoped>\n",
       "    .dataframe tbody tr th:only-of-type {\n",
       "        vertical-align: middle;\n",
       "    }\n",
       "\n",
       "    .dataframe tbody tr th {\n",
       "        vertical-align: top;\n",
       "    }\n",
       "\n",
       "    .dataframe thead th {\n",
       "        text-align: right;\n",
       "    }\n",
       "</style>\n",
       "<table border=\"1\" class=\"dataframe\">\n",
       "  <thead>\n",
       "    <tr style=\"text-align: right;\">\n",
       "      <th></th>\n",
       "      <th>Income(Rs.)</th>\n",
       "      <th>Carpenters</th>\n",
       "      <th>Plumbers</th>\n",
       "      <th>Electrician</th>\n",
       "    </tr>\n",
       "  </thead>\n",
       "  <tbody>\n",
       "    <tr>\n",
       "      <th>0</th>\n",
       "      <td>&lt;50000</td>\n",
       "      <td>1100</td>\n",
       "      <td>1250</td>\n",
       "      <td>1900</td>\n",
       "    </tr>\n",
       "    <tr>\n",
       "      <th>1</th>\n",
       "      <td>50000 - 100000</td>\n",
       "      <td>2050</td>\n",
       "      <td>2320</td>\n",
       "      <td>2200</td>\n",
       "    </tr>\n",
       "    <tr>\n",
       "      <th>2</th>\n",
       "      <td>100000 - 150000</td>\n",
       "      <td>1200</td>\n",
       "      <td>1470</td>\n",
       "      <td>1700</td>\n",
       "    </tr>\n",
       "    <tr>\n",
       "      <th>3</th>\n",
       "      <td>150000&lt;</td>\n",
       "      <td>970</td>\n",
       "      <td>890</td>\n",
       "      <td>1150</td>\n",
       "    </tr>\n",
       "  </tbody>\n",
       "</table>\n",
       "</div>"
      ],
      "text/plain": [
       "       Income(Rs.)  Carpenters  Plumbers  Electrician\n",
       "0           <50000        1100      1250         1900\n",
       "1   50000 - 100000        2050      2320         2200\n",
       "2  100000 - 150000        1200      1470         1700\n",
       "3          150000<         970       890         1150"
      ]
     },
     "execution_count": 34,
     "metadata": {},
     "output_type": "execute_result"
    }
   ],
   "source": [
    "#Q-2\n",
    "\n",
    "dataset = pd.read_csv(\"Lab_3 2.csv\")\n",
    "print(dataset.set_index(\"Income(Rs.)\"))\n",
    "\n",
    "#i)\n",
    "print(\"\\n\\nPart-i\\n\")\n",
    "dataset['Carpenters'] = dataset['Carpenters']*(8/100)\n",
    "dataset['Plumbers'] = dataset['Plumbers']*(8/100)\n",
    "dataset['Electrician'] = dataset['Electrician']*(8/100)\n",
    "print(\"\\n\",dataset)\n",
    "\n",
    "#ii)\n",
    "print(\"\\n\\nPart-ii\\n\")\n",
    "df = pd.read_csv(\"Lab_3 2.csv\")\n",
    "df"
   ]
  },
  {
   "cell_type": "code",
   "execution_count": 24,
   "id": "01d0c535",
   "metadata": {},
   "outputs": [
    {
     "name": "stdout",
     "output_type": "stream",
     "text": [
      "Mean: 25.0\n",
      "Variance: 160.0\n"
     ]
    }
   ],
   "source": [
    "#Q-3\n",
    "\n",
    "class_intervals = np.array([0, 10, 20, 30, 40, 50])\n",
    "frequencies = np.array([14, 23, 27, 21, 15])\n",
    "mean = np.sum((class_intervals[:-1] + class_intervals[1:]) / 2 * frequencies) / np.sum(frequencies)\n",
    "variance = np.sum(((class_intervals[:-1] + class_intervals[1:]) / 2 - mean)**2 * frequencies) / np.sum(frequencies)\n",
    " \n",
    "print(\"Mean:\", mean)\n",
    "print(\"Variance:\", variance)"
   ]
  },
  {
   "cell_type": "code",
   "execution_count": 23,
   "id": "7639453b",
   "metadata": {},
   "outputs": [
    {
     "name": "stdout",
     "output_type": "stream",
     "text": [
      "Mean: 1.15\n",
      "Variance: 11.39\n",
      "Variance of Sample Mean: 0.022786\n"
     ]
    }
   ],
   "source": [
    "#Q-4\n",
    "\n",
    "Xi = np.array([10, 11, 12, 13, 14])\n",
    "Fi = np.array([3, 12, 18, 12, 3])\n",
    "N = 500\n",
    "S_square = 2.25\n",
    "\n",
    "mean = np.sum(Xi * Fi) / N\n",
    "variance = np.sum(Fi * (Xi - mean)**2) / N\n",
    "var_sample_mean = variance / N\n",
    "\n",
    "print(f\"Mean: {mean:.2f}\")\n",
    "print(f\"Variance: {variance:.2f}\")\n",
    "print(f\"Variance of Sample Mean: {var_sample_mean:.6f}\")\n"
   ]
  },
  {
   "cell_type": "code",
   "execution_count": 25,
   "id": "4a619135",
   "metadata": {},
   "outputs": [],
   "source": [
    "#LAB-4"
   ]
  },
  {
   "cell_type": "code",
   "execution_count": 26,
   "id": "4e610f87",
   "metadata": {},
   "outputs": [
    {
     "name": "stdout",
     "output_type": "stream",
     "text": [
      "Variance:  51.96\n",
      "Mean: 147.2\n",
      "Mode: 28\n",
      "Standard Deviation:  7.2083285163760396\n"
     ]
    }
   ],
   "source": [
    "#Q.1\n",
    "\n",
    "class_intervals = np.array([129.5,134.5,139.5,144.5,149.5,154.5,159.5,164.5])\n",
    "frequencies = np.array([3,12,21,28,19,12,5])\n",
    "mean = np.sum((class_intervals[:-1] + class_intervals[1:]) / 2 * frequencies) / np.sum(frequencies)\n",
    "variance = np.sum(((class_intervals[:-1] + class_intervals[1:]) / 2 - mean)**2 * frequencies) / np.sum(frequencies)\n",
    " \n",
    "print(\"Variance: \",variance)    \n",
    "print(\"Mean:\", mean)\n",
    "print(\"Mode:\",np.max(frequencies))\n",
    "print(\"Standard Deviation: \", variance**0.5)"
   ]
  },
  {
   "cell_type": "code",
   "execution_count": 27,
   "id": "f5d8f939",
   "metadata": {},
   "outputs": [
    {
     "name": "stdout",
     "output_type": "stream",
     "text": [
      "Median:  147.0\n",
      "(a) Mean: 147.2, Mode: 147.0\n",
      "(b) Standard Deviation: 7.2083285163760396\n",
      "(c) Q1: 142.0, Q3: 152.0\n",
      "(d) Karl Pearson's Coefficient of Skewness: 0.09028560679625972\n",
      "(e) Bowley’s Coefficient of Skewness: 0.0\n",
      "(f) The data is positively skewed\n"
     ]
    }
   ],
   "source": [
    "class_intervals = [(130, 134), (135, 139), (140, 144), (145, 149), (150, 154), (155, 159), (160, 164)]\n",
    "frequencies = [3, 12, 21, 28, 19, 12, 5]\n",
    "\n",
    "midpoints = [(a+b)/2 for a, b in class_intervals]\n",
    " \n",
    "data = []\n",
    "for midpoint, freq in zip(midpoints, frequencies):\n",
    "    data.extend([midpoint]*freq)\n",
    " \n",
    "\n",
    "data = np.array(data)\n",
    " \n",
    "mean = np.mean(data)\n",
    "mode = stats.mode(data)[0]\n",
    " \n",
    "std_dev = np.std(data)\n",
    " \n",
    "Q1 = np.percentile(data, 25)\n",
    "Q3 = np.percentile(data, 75)\n",
    " \n",
    "skewness = stats.skew(data)\n",
    "\n",
    "bowley_skew = (Q3 + Q1 - 2*statistics.median(data)) / (Q3 - Q1)\n",
    " \n",
    "skewness_type = 'positively skewed' if skewness > 0 else 'negatively skewed'\n",
    "\n",
    "print(\"Median: \",statistics.median(data)) \n",
    "print(f'(a) Mean: {mean}, Mode: {mode}')\n",
    "print(f'(b) Standard Deviation: {std_dev}')\n",
    "print(f'(c) Q1: {Q1}, Q3: {Q3}')\n",
    "print(f'(d) Karl Pearson\\'s Coefficient of Skewness: {skewness}')\n",
    "print(f'(e) Bowley’s Coefficient of Skewness: {bowley_skew}')\n",
    "print(f'(f) The data is {skewness_type}')"
   ]
  },
  {
   "cell_type": "code",
   "execution_count": 32,
   "id": "7cf499ef",
   "metadata": {},
   "outputs": [
    {
     "name": "stdout",
     "output_type": "stream",
     "text": [
      "Mean: 44.40\n",
      "Variance: 56.64\n"
     ]
    },
    {
     "data": {
      "image/png": "[encoded data removed]",
      "text/plain": [
       "<Figure size 800x600 with 1 Axes>"
      ]
     },
     "metadata": {},
     "output_type": "display_data"
    },
    {
     "data": {
      "image/png": "[encoded data removed]",
      "text/plain": [
       "<Figure size 800x600 with 1 Axes>"
      ]
     },
     "metadata": {},
     "output_type": "display_data"
    }
   ],
   "source": [
    "#Q.2\n",
    "import matplotlib.pyplot as plt\n",
    "\n",
    "weights = np.array([36, 41, 46, 51, 56, 61, 66, 71])\n",
    "students = np.array([100, 96, 79, 56, 28, 11, 5, 2])\n",
    "\n",
    "mean = np.sum(weights * students) / np.sum(students)\n",
    "\n",
    "variance = np.sum(students * (weights - mean)**2) / np.sum(students)\n",
    "\n",
    "print(f\"Mean: {mean:.2f}\")\n",
    "print(f\"Variance: {variance:.2f}\")\n",
    "\n",
    "plt.figure(figsize=(8, 6))\n",
    "plt.hist(weights, bins=8, edgecolor='black', alpha=0.8)\n",
    "plt.xlabel(\"Weight\")\n",
    "plt.ylabel(\"Frequency\")\n",
    "plt.title(\"Histogram of Student Weights\")\n",
    "plt.show()\n",
    "\n",
    "plt.figure(figsize=(8, 6))\n",
    "plt.plot(weights, students, marker='o', linestyle='-', color='b')\n",
    "plt.xlabel(\"Weight\")\n",
    "plt.ylabel(\"Number of Students\")\n",
    "plt.title(\"Frequency Polygon of Student Weights\")\n",
    "plt.grid(True)\n",
    "plt.show()\n"
   ]
  },
  {
   "cell_type": "code",
   "execution_count": 13,
   "id": "f4e5ea7f",
   "metadata": {},
   "outputs": [
    {
     "name": "stdout",
     "output_type": "stream",
     "text": [
      "ModeResult(mode=5, count=1)\n",
      "Mean: 45.90\n",
      "Mode: 5\n"
     ]
    }
   ],
   "source": [
    "#Q.3]:\n",
    "\n",
    "import numpy as np\n",
    "from scipy import stats\n",
    "\n",
    "marks = np.array([5, 15, 25, 35, 45, 55, 65, 75])\n",
    "students = np.array([4, 6, 10, 10, 25, 22, 18, 5])\n",
    "\n",
    "mean = np.sum(marks * students) / np.sum(students)\n",
    "\n",
    "M = stats.mode(marks)  \n",
    "print(M)\n",
    "Mode = M[0]\n",
    "\n",
    "print(f\"Mean: {mean:.2f}\")\n",
    "print(f\"Mode: {Mode}\")"
   ]
  },
  {
   "cell_type": "code",
   "execution_count": null,
   "id": "805d3bfa",
   "metadata": {},
   "outputs": [],
   "source": [
    "#Lab:5"
   ]
  },
  {
   "cell_type": "code",
   "execution_count": 14,
   "id": "04a0bc77",
   "metadata": {},
   "outputs": [
    {
     "name": "stdout",
     "output_type": "stream",
     "text": [
      "MODE:-  27.520000000000003\n"
     ]
    }
   ],
   "source": [
    "#Q.1] (i):\n",
    "\n",
    "sk=0.32\n",
    "sd=6.5\n",
    "mean=29.6\n",
    "mode=mean-(sk*sd)\n",
    "print(\"MODE:- \",mode)"
   ]
  },
  {
   "cell_type": "code",
   "execution_count": 16,
   "id": "949ce51a",
   "metadata": {},
   "outputs": [
    {
     "name": "stdout",
     "output_type": "stream",
     "text": [
      "Standard Deviation is : -  15.000000000000002\n"
     ]
    }
   ],
   "source": [
    "#Q.1] (ii):\n",
    "\n",
    "mode=24.8\n",
    "sd=(mean-mode)/sk\n",
    "print(\"Standard Deviation is : - \",sd)"
   ]
  },
  {
   "cell_type": "code",
   "execution_count": 18,
   "id": "a5efeeae",
   "metadata": {},
   "outputs": [
    {
     "name": "stdout",
     "output_type": "stream",
     "text": [
      "CV:- 4.395604395604396\n"
     ]
    }
   ],
   "source": [
    "#Q.2]:\n",
    "\n",
    "mean=130\n",
    "sk=-0.35\n",
    "mode=132\n",
    "sd=(mean-mode)/sk\n",
    "CV=(sd/mean)*100\n",
    "print(\"CV:-\",CV)"
   ]
  },
  {
   "cell_type": "code",
   "execution_count": 20,
   "id": "e55fe207",
   "metadata": {},
   "outputs": [
    {
     "data": {
      "text/plain": [
       "'ANS:I would not approve of the measure of ‘peak’ as a single value for each rush hour, \\nbecause it does not capture the variability, asymmetry, and peakedness of the time intervals.\\nA better measure would be a range of time intervals that covers a certain percentage of the passengers,\\nsuch as the interquartile range or the 95% confidence interval.\\nThis would provide more information about the distribution of the passengers and the reliability of the peak hour estimate.'"
      ]
     },
     "execution_count": 20,
     "metadata": {},
     "output_type": "execute_result"
    }
   ],
   "source": [
    "#Q.3]:ANS:\n",
    "\n",
    "'''I would not approve of the measure of ‘peak’ as a single value for each rush hour, \n",
    "because it does not capture the variability, asymmetry, and peakedness of the time intervals.\n",
    "A better measure would be a range of time intervals that covers a certain percentage of the passengers,\n",
    "such as the interquartile range or the 95% confidence interval.\n",
    "This would provide more information about the distribution of the passengers and the reliability of the peak hour estimate.'''"
   ]
  },
  {
   "cell_type": "code",
   "execution_count": 25,
   "id": "a9d1916e",
   "metadata": {},
   "outputs": [
    {
     "name": "stdout",
     "output_type": "stream",
     "text": [
      "  Firm  No. of wage earners  Mean of monthly wages  \\\n",
      "0    A                  586                   5223   \n",
      "1    B                  648                   5223   \n",
      "\n",
      "   Variance of the distribution of wages  \n",
      "0                                    100  \n",
      "1                                    121  \n",
      "Total amount of monthly wages paid by each firm:\n",
      "  Firm  Total wages\n",
      "0    A      3060678\n",
      "1    B      3384504\n",
      "Firm B pays larger amount as monthly wages.\n",
      "Firm B shows greater variability in individual wages.\n"
     ]
    }
   ],
   "source": [
    "#Q.4]\n",
    "\n",
    "data = {\"Firm\": [\"A\", \"B\"], \"No. of wage earners\": [586, 648], \"Mean of monthly wages\": [5223, 5223], \"Variance of the distribution of wages\": [100, 121]}\n",
    "df = pd.DataFrame(data)\n",
    " \n",
    "print(df)\n",
    " \n",
    "df[\"Total wages\"] = df[\"No. of wage earners\"] * df[\"Mean of monthly wages\"]\n",
    "print(\"Total amount of monthly wages paid by each firm:\")\n",
    "print(df[[\"Firm\", \"Total wages\"]])\n",
    " \n",
    "if df[\"Total wages\"].max() == df[\"Total wages\"].min():\n",
    "    print(\"Both firm A and B pay the same amount as monthly wages.\")\n",
    "else:\n",
    "    print(f\"Firm {df['Firm'][df['Total wages'].idxmax()]} pays larger amount as monthly wages.\")\n",
    "    \n",
    "if df[\"Variance of the distribution of wages\"].max() == df[\"Variance of the distribution of wages\"].min():\n",
    "    print(\"Both firm A and B show the same variability in individual wages.\")\n",
    "else:\n",
    "    print(f\"Firm {df['Firm'][df['Variance of the distribution of wages'].idxmax()]} shows greater variability in individual wages.\")"
   ]
  },
  {
   "cell_type": "code",
   "execution_count": null,
   "id": "3d9481c7",
   "metadata": {},
   "outputs": [],
   "source": []
  }
 ],
 "metadata": {
  "kernelspec": {
   "display_name": "Python 3 (ipykernel)",
   "language": "python",
   "name": "python3"
  },
  "language_info": {
   "codemirror_mode": {
    "name": "ipython",
    "version": 3
   },
   "file_extension": ".py",
   "mimetype": "text/x-python",
   "name": "python",
   "nbconvert_exporter": "python",
   "pygments_lexer": "ipython3",
   "version": "3.11.5"
  }
 },
 "nbformat": 4,
 "nbformat_minor": 5
}
